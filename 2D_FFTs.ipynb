{
  "nbformat": 4,
  "nbformat_minor": 0,
  "metadata": {
    "colab": {
      "name": "2D FFTs.ipynb",
      "private_outputs": true,
      "provenance": [],
      "authorship_tag": "ABX9TyOUqLcUtI8gBVhqLySK1IWi",
      "include_colab_link": true
    },
    "kernelspec": {
      "name": "python3",
      "display_name": "Python 3"
    },
    "language_info": {
      "name": "python"
    }
  },
  "cells": [
    {
      "cell_type": "markdown",
      "metadata": {
        "id": "view-in-github",
        "colab_type": "text"
      },
      "source": [
        "<a href=\"https://colab.research.google.com/github/sascha-kirch/ML_Notebooks/blob/main/2D_FFTs.ipynb\" target=\"_parent\"><img src=\"https://colab.research.google.com/assets/colab-badge.svg\" alt=\"Open In Colab\"/></a>"
      ]
    },
    {
      "cell_type": "markdown",
      "source": [
        "# 2D FFT\n",
        "Notebook to investigate the behavior of 2D FFTs and filters in Frequency Domain.\n",
        "\n",
        "Numpy Docu: https://numpy.org/doc/stable/reference/routines.fft.html\n"
      ],
      "metadata": {
        "id": "t6CnNMHMPFzt"
      }
    },
    {
      "cell_type": "code",
      "execution_count": null,
      "metadata": {
        "id": "8ZLgkR35PBGJ"
      },
      "outputs": [],
      "source": [
        "import cv2\n",
        "import os\n",
        "import numpy as np\n",
        "import matplotlib.pyplot as plt\n",
        "import tensorflow as tf"
      ]
    },
    {
      "cell_type": "code",
      "source": [
        "def HorizontalSine(shape, wavelength):\n",
        "  X, Y = np.meshgrid(np.arange(0, shape[0], 1), np.arange(0, shape[1], 1))\n",
        "  return np.sin(2 * np.pi * X / wavelength)\n",
        "\n",
        "def VerticalSine(shape, wavelength):\n",
        "  X, Y = np.meshgrid(np.arange(0, shape[0], 1), np.arange(0, shape[1], 1))\n",
        "  return np.sin(2 * np.pi * Y / wavelength)\n",
        "\n",
        "def DiagonalSine(shape, wavelength, angle = np.pi / 4):\n",
        "  X, Y = np.meshgrid(np.arange(0, shape[0], 1), np.arange(0, shape[1], 1))\n",
        "  return np.sin( 2*np.pi*(X*np.cos(angle) + Y*np.sin(angle)) / wavelength)\n",
        "\n",
        "def Gauss(shape, A=1):\n",
        "  x_mean = int(shape[0]/2)\n",
        "  y_mean = int(shape[1]/2)\n",
        "  x_sigma = int(shape[0]/10)\n",
        "  y_sigma = int(shape[1]/10)\n",
        "  X, Y = np.meshgrid(np.arange(0, shape[0], 1), np.arange(0, shape[1], 1))\n",
        "  return A*np.exp(-((X-x_mean)**2/(2*x_sigma**2)+(Y-y_mean)**2/(2*y_sigma**2)))\n",
        "\n",
        "def Circle(shape, r=10): #Lowpass\n",
        "  X, Y = np.meshgrid(np.arange(0, shape[0], 1), np.arange(0, shape[1], 1))\n",
        "  x_center = int(shape[0]/2)\n",
        "  y_center = int(shape[1]/2)\n",
        "  image = np.sqrt((X-x_center)**2 + (Y-y_center)**2)\n",
        "  return image <= r # all values smaller or equal as r are set true\n",
        "\n",
        "def NegativeCircle(shape, r=10): #Highpass\n",
        "  X, Y = np.meshgrid(np.arange(0, shape[0], 1), np.arange(0, shape[1], 1))\n",
        "  x_center = int(shape[0]/2)\n",
        "  y_center = int(shape[1]/2)\n",
        "  image = np.sqrt((X-x_center)**2 + (Y-y_center)**2)\n",
        "  return image > r # all values bigger as r are set true\n",
        "\n",
        "def Rect(shape, height = 30, width = 10):\n",
        "  image = np.zeros(shape)\n",
        "  x_min = int(shape[0]/2 - width/2)\n",
        "  x_max = int(shape[0]/2 + width/2)\n",
        "  y_min = int(shape[1]/2 - height/2)\n",
        "  y_max = int(shape[1]/2 + height/2)\n",
        "  image[y_min:y_max,x_min:x_max]=1\n",
        "  return image\n",
        "\n",
        "def VerticalRect(shape):\n",
        "  return Rect(shape, shape[0]/4,shape[1]/8)\n",
        "\n",
        "def HorizontalRect(shape):\n",
        "  return Rect(shape, shape[0]/8,shape[1]/4)\n",
        "\n",
        "plt.imshow(Gauss((1025,1025)), cmap='gray')\n",
        "plt.colorbar()"
      ],
      "metadata": {
        "id": "eQukH-Jff-PW"
      },
      "execution_count": null,
      "outputs": []
    },
    {
      "cell_type": "code",
      "source": [
        "def PlotFFT(image, plot3D = True, realFFT = False, xlim = None, ylim=None):\n",
        "\n",
        "  # Spectrum calculation\n",
        "  if realFFT:\n",
        "    # FFT Shift only over height axis if real FFT\n",
        "    spectrum = np.fft.fftshift(np.fft.rfft2(image,axes=(- 2, - 1)),axes = [-2])\n",
        "    inverse_DFT = np.fft.irfft2(np.fft.ifftshift(spectrum,axes = [-2]))\n",
        "    # axis labels for spectrum to allign with shifted signal\n",
        "    extent = [\n",
        "      0,np.shape(spectrum)[-1],\n",
        "      -int(np.shape(spectrum)[-2]/2),int(np.shape(spectrum)[-2]/2)]\n",
        "  else:\n",
        "    spectrum = np.fft.fftshift(np.fft.fft2(image,axes=(- 2, - 1)))\n",
        "    #spectrum = tf.signal.fftshift(tf.signal.fft2d(image))\n",
        "    inverse_DFT = np.fft.ifft2(np.fft.ifftshift(spectrum)).real\n",
        "    extent = [\n",
        "      -int(np.shape(spectrum)[-1]/2),int(np.shape(spectrum)[-1]/2),\n",
        "      -int(np.shape(spectrum)[-2]/2),int(np.shape(spectrum)[-2]/2)]\n",
        "    \n",
        "  amplitude_spectrum = np.log( #scaling in amplitude\n",
        "        np.abs(spectrum)**2 # amplitudes of complex spectrum\n",
        "    )\n",
        "  phase_spectrum = np.angle(spectrum)\n",
        "\n",
        "  #3D Plot preparation\n",
        "  if plot3D:\n",
        "      rows = 2\n",
        "  else:\n",
        "      rows = 1\n",
        "\n",
        "  # Plotting\n",
        "  fig = plt.figure(figsize=[30,6*rows])\n",
        "  fig.suptitle(\"2D DFT & iDFT\", fontsize=20)\n",
        "\n",
        "  ax = fig.add_subplot(rows, 4, 1)\n",
        "  ax.set_title('Image')\n",
        "  plt.imshow(image, cmap='gray')\n",
        "  plt.colorbar()\n",
        "\n",
        "  ax = fig.add_subplot(rows, 4, 2)\n",
        "  ax.set_title('2D DFT Amplitude')\n",
        "  plt.imshow(amplitude_spectrum, cmap='jet',extent=extent)\n",
        "  if xlim:\n",
        "    plt.xlim(xlim)\n",
        "  if ylim:\n",
        "    plt.ylim(ylim)\n",
        "  plt.colorbar()\n",
        "    \n",
        "  ax = fig.add_subplot(rows, 4, 3)\n",
        "  ax.set_title('2D DFT Phase')\n",
        "  plt.imshow(phase_spectrum, cmap='jet',extent=extent)\n",
        "  if xlim:\n",
        "    plt.xlim(xlim)\n",
        "  if ylim:\n",
        "    plt.ylim(ylim)\n",
        "  plt.colorbar()\n",
        "\n",
        "  ax = fig.add_subplot(rows, 4, 4)\n",
        "  ax.set_title('2D iDFT')\n",
        "  plt.imshow(inverse_DFT, cmap='gray')\n",
        "  plt.colorbar()\n",
        "    \n",
        "  if plot3D:\n",
        "      #print(np.shape(spectrum))\n",
        "      X, Y = np.meshgrid(range(0,np.shape(image)[0]), range(0,np.shape(image)[1]))\n",
        "      if realFFT:\n",
        "        X_freq, Y_freq = np.meshgrid(range(0,np.shape(spectrum)[-2]), range(-int(np.shape(spectrum)[-1]/2),int(np.shape(spectrum)[-1]/2)))\n",
        "      else:\n",
        "        X_freq, Y_freq = np.meshgrid(range(-int(np.shape(spectrum)[-2]/2),int(np.shape(spectrum)[-2]/2)), range(-int(np.shape(spectrum)[-1]/2),int(np.shape(spectrum)[-1]/2)))\n",
        "\n",
        "      ax = fig.add_subplot(2, 4, 5,projection='3d')\n",
        "      ax.set_title('Image')\n",
        "      ax.plot_surface(X,Y,image,cmap='gray')\n",
        "\n",
        "      ax = fig.add_subplot(2, 4, 6,projection='3d')\n",
        "      ax.set_title('2D DFT Amplitude')\n",
        "      ax.plot_surface(X_freq,Y_freq,amplitude_spectrum,cmap='jet')\n",
        "\n",
        "      ax = fig.add_subplot(2, 4, 7,projection='3d')\n",
        "      ax.set_title('2D DFT Phase')\n",
        "      ax.plot_surface(X_freq,Y_freq,phase_spectrum,cmap='jet')\n",
        "\n",
        "      ax = fig.add_subplot(2, 4, 8,projection='3d')\n",
        "      ax.set_title('2D iDFT')\n",
        "      ax.plot_surface(X,Y,inverse_DFT,cmap='gray')\n",
        "\n",
        "  plt.show()"
      ],
      "metadata": {
        "id": "pHyV75azzDpB"
      },
      "execution_count": null,
      "outputs": []
    },
    {
      "cell_type": "code",
      "source": [
        "PlotFFT(Gauss(shape=(1024,1024)),plot3D = True,realFFT = False, xlim=None, ylim=None)"
      ],
      "metadata": {
        "id": "lD6spunS8hwo"
      },
      "execution_count": null,
      "outputs": []
    },
    {
      "cell_type": "code",
      "source": [
        "!wget https://raw.githubusercontent.com/sascha-kirch/sascha-kirch.github.io/main/docs/assets/images/emojos.png"
      ],
      "metadata": {
        "id": "fKWdfQKPaeXK"
      },
      "execution_count": null,
      "outputs": []
    },
    {
      "cell_type": "code",
      "source": [
        "imageFilePath = \"/content/emojos.png\"\n",
        "image = cv2.imread(imageFilePath,0) # read Gray Scale\n",
        "H,W = np.shape(image)\n",
        "side_length = min(H,W)\n",
        "image = image[0:side_length,0:side_length] # crop and only use single color channel"
      ],
      "metadata": {
        "id": "tKsLghjSP0Mm"
      },
      "execution_count": null,
      "outputs": []
    },
    {
      "cell_type": "code",
      "source": [
        "PlotFFT(image)"
      ],
      "metadata": {
        "id": "zLNFbeFL8roo"
      },
      "execution_count": null,
      "outputs": []
    },
    {
      "cell_type": "code",
      "source": [
        "def PlotFFTWithFilter(image,filter):\n",
        "\n",
        "  # Spectrum calculation\n",
        "  spectrum = np.fft.fftshift(np.fft.fft2(image,axes=(- 2, - 1)))\n",
        "  amplitude_spectrum = np.log( #scaling in amplitude\n",
        "        np.abs(spectrum)**2 # amplitudes of complex spectrum\n",
        "    )\n",
        "  phase_spectrum = np.angle(spectrum)\n",
        "  inverse_DFT = np.fft.ifft2(np.fft.ifftshift(spectrum)).real\n",
        "\n",
        "  filtered_spectrum = spectrum * filter\n",
        "  filtered_amplitude_spectrum = np.log(np.abs(filtered_spectrum)**2)\n",
        "  filtered_phase_spectrum = np.angle(filtered_spectrum)\n",
        "  filtered_inverse_DFT = np.fft.ifft2(np.fft.ifftshift(filtered_spectrum)).real\n",
        "\n",
        "  # Plotting\n",
        "  fig = plt.figure(figsize=[30,12])\n",
        "  fig.suptitle(\"2D DFT & iDFT\", fontsize=20)\n",
        "\n",
        "  ax = fig.add_subplot(2, 4, 1)\n",
        "  ax.set_title('Image')\n",
        "  plt.imshow(image, cmap='gray')\n",
        "  plt.colorbar()\n",
        "\n",
        "  ax = fig.add_subplot(2, 4, 2)\n",
        "  ax.set_title('2D DFT Amplitude')\n",
        "  plt.imshow(amplitude_spectrum, cmap='jet')\n",
        "  #plt.xlim([448, 576])\n",
        "  #plt.ylim([576, 448])\n",
        "  plt.colorbar()\n",
        "\n",
        "  ax = fig.add_subplot(2, 4, 3)\n",
        "  ax.set_title('2D DFT Phase')\n",
        "  plt.imshow(phase_spectrum, cmap='jet')\n",
        "  plt.colorbar()\n",
        "\n",
        "  ax = fig.add_subplot(2, 4, 4)\n",
        "  ax.set_title('2D iDFT')\n",
        "  plt.imshow(inverse_DFT, cmap='gray', vmin=0, vmax=255)\n",
        "  plt.colorbar()\n",
        "\n",
        "  ax = fig.add_subplot(2, 4, 5)\n",
        "  ax.set_title('Filter F-Domain')\n",
        "  plt.imshow(filter, cmap='gray')\n",
        "  plt.colorbar()\n",
        "\n",
        "  ax = fig.add_subplot(2, 4, 6)\n",
        "  ax.set_title('Filtered Amplitude Spectrum')\n",
        "  plt.imshow(filtered_amplitude_spectrum, cmap='jet')\n",
        "  plt.colorbar()\n",
        "\n",
        "  ax = fig.add_subplot(2, 4, 7)\n",
        "  ax.set_title('Filtered Phase Spectrum')\n",
        "  plt.imshow(filtered_phase_spectrum, cmap='jet')\n",
        "  plt.colorbar()\n",
        "\n",
        "  ax = fig.add_subplot(2, 4, 8)\n",
        "  ax.set_title('Filtered iDFT')\n",
        "  plt.imshow(filtered_inverse_DFT, cmap='gray', vmin=0, vmax=255)\n",
        "  plt.colorbar()\n",
        "\n",
        "  plt.show()\n",
        "\n",
        "#image = DiagonalSine(shape=(1025,1025),wavelength=128)\n",
        "filter = Rect(np.shape(image),height= 100,width=200)\n",
        "PlotFFTWithFilter(image, filter)"
      ],
      "metadata": {
        "id": "PlsEhePgFXJA"
      },
      "execution_count": null,
      "outputs": []
    },
    {
      "cell_type": "code",
      "source": [
        ""
      ],
      "metadata": {
        "id": "ZEFkdnGddnRi"
      },
      "execution_count": null,
      "outputs": []
    }
  ]
}